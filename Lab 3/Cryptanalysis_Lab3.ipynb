{
  "nbformat": 4,
  "nbformat_minor": 0,
  "metadata": {
    "colab": {
      "provenance": [],
      "authorship_tag": "ABX9TyNMMNWnxHktvRQfbsGk1Zlh",
      "include_colab_link": true
    },
    "kernelspec": {
      "name": "python3",
      "display_name": "Python 3"
    },
    "language_info": {
      "name": "python"
    }
  },
  "cells": [
    {
      "cell_type": "markdown",
      "metadata": {
        "id": "view-in-github",
        "colab_type": "text"
      },
      "source": [
        "<a href=\"https://colab.research.google.com/github/ivyar/Cryptanalysis/blob/main/Lab%203/Cryptanalysis_Lab3.ipynb\" target=\"_parent\"><img src=\"https://colab.research.google.com/assets/colab-badge.svg\" alt=\"Open In Colab\"/></a>"
      ]
    },
    {
      "cell_type": "code",
      "execution_count": 6,
      "metadata": {
        "colab": {
          "base_uri": "https://localhost:8080/"
        },
        "id": "F7neeAgHzd0L",
        "outputId": "06d9995b-f2d1-490e-cfbc-16fba1d87d9b"
      },
      "outputs": [
        {
          "output_type": "stream",
          "name": "stdout",
          "text": [
            "3.5336941295567357e+72\n"
          ]
        }
      ],
      "source": [
        "C1 = int('c7732956408bd7825fc15770b5c8a093090b91a7ca5dc37fe587cd3068bd6c92', 16)\n",
        "N1 = int('CDF9B42572285D0F0416B2D4DDDFF10FFE8EF5587073782A66332FECB9B4E28B', 16)\n",
        "C2 = int('ac5569a44913ec3e7108881da9e0d3412d228b5299e1c9db7704a3c4ebbf0be6', 16)\n",
        "N2 = int('CA9D1A74546C21337D773DBAA27BB6C2BD260F3E6C3EDD3752F982A9B0C3E255', 16)\n",
        "C3 = int('a2b7ae3635a1a3f46c0700e07d367af62802cdd30ab21b64b664b3dc90752bcc', 16)\n",
        "N3 = int('AB5FA749D515CBEF8C3CF71F7685EB6D87DA74CA5AC563494F57BE9C479FF221', 16)\n",
        "e = 3\n",
        "\n",
        "M = N1 * N2 * N3\n",
        "M1 = N2 * N3\n",
        "M2 = N1 * N3\n",
        "M3 = N1 * N2\n",
        "\n",
        "n1 = pow(M1, -1, N1)\n",
        "n2 = pow(M2, -1, N2)\n",
        "n3 = pow(M3, -1, N3)\n",
        "\n",
        "C = (C1 * M1 * n1 + C2 * M2 * n2 + C3 * M3 * n3) % M\n",
        "text = C ** (1 / 3)\n",
        "print(text)"
      ]
    },
    {
      "cell_type": "code",
      "source": [
        "import numpy as np\n",
        "\n",
        "C = int('61ea7c551d6f4fed72d57013e8853ad5ae72e664066a20e34fbba1c4ed86f5fd61374be7aa69b5abe3106a299c9d729ece42b647c115ec061fb84a144f130cb0ad815f758358d6ffdd2a99bb1dd7aac8bc12b2f40d802c6d376a89bb70bc098a6db4b137128d8960f34d5b783e7fea5e3d3ac294b4a0f6cef17856f70656cc8a80f5e40c6a763960e51bc297f316254a86d0e64324e65184c5456bcdcab07e5d9e833f6eb2de4ee15d19ea639e54c37af0538f81347f64ff0e03659f6c3e9f0be4f3c1bf3824ca55085997bd59de8c02f4c22ed668cdf795146a2b05a5b9105a5d029a704bdbb92e619a5b9bfc4fc3c39c5be12b5697684e535d4f18f4348cda', 16)\n",
        "N = int('C68D3351791940055D7CABF1CA24764DDDA34933985F6F822FFD52B18C1746B0B79D4B0FAE00CB0D26487F3AF2E292D6319C653F9855A720E4DA5EC7E653AD00047925F3651A80B42ECEF4530EEDA1D8DB3724E6EC779DFF1506D7D98272D57CD51BBD2BBA23C2868FB3FC1690EA851C46904161AA61A66258C33EB9F4EC8A0666447D61F3A03E5D4FFC7584DCD6CB15145CDE09A77CEEBCB33617780DC02049078AB36A7D80CA4DB2CC263E36DA437723AAA45CB9943720FD9B69B73A52D52637F2C6750D616F7E43106C26E4698DB07B62D4896E1B44F4BB51D4773F194C11DA7DE0C9B65C54EC800223EEF36B14546A8F1A7ADE015414E04F87A187494613', 16)\n",
        "e = 65537\n",
        "l = 20\n",
        "\n",
        "X = [[0 for c in range(2)] for r in range(2 ** (l // 2))]\n",
        "C_s = [0 for c in range(2 ** (l // 2))]\n",
        "s = 0\n",
        "t = 0\n",
        "\n",
        "for i in range(1, 2 ** (l // 2)):\n",
        "  X[i - 1][0] = i\n",
        "  X[i - 1][1] = pow(i, e, N)\n",
        "\n",
        "for i in range(1, 2 ** (l // 2)):\n",
        "  S = pow(pow(i, -1, N), e, N)\n",
        "  C_s[i - 1] = (C * S) % N\n",
        "  for j in range(0, 2 ** (l // 2)):\n",
        "    if (C_s[i - 1] == X[j][1]):\n",
        "      s = i;\n",
        "      t = j + 1;\n",
        "      break\n",
        "\n",
        "if (t == 0): print(False)\n",
        "else: print(hex(s * t)[2:])\n",
        "\n",
        "check = pow(int('baf93', 16), e, N)\n",
        "print(hex(check)[2:])"
      ],
      "metadata": {
        "colab": {
          "base_uri": "https://localhost:8080/"
        },
        "id": "xvQu8Ja5Wqfr",
        "outputId": "d6264240-ee03-4a0c-9d29-49445166e165"
      },
      "execution_count": 21,
      "outputs": [
        {
          "output_type": "stream",
          "name": "stdout",
          "text": [
            "baf93\n",
            "61ea7c551d6f4fed72d57013e8853ad5ae72e664066a20e34fbba1c4ed86f5fd61374be7aa69b5abe3106a299c9d729ece42b647c115ec061fb84a144f130cb0ad815f758358d6ffdd2a99bb1dd7aac8bc12b2f40d802c6d376a89bb70bc098a6db4b137128d8960f34d5b783e7fea5e3d3ac294b4a0f6cef17856f70656cc8a80f5e40c6a763960e51bc297f316254a86d0e64324e65184c5456bcdcab07e5d9e833f6eb2de4ee15d19ea639e54c37af0538f81347f64ff0e03659f6c3e9f0be4f3c1bf3824ca55085997bd59de8c02f4c22ed668cdf795146a2b05a5b9105a5d029a704bdbb92e619a5b9bfc4fc3c39c5be12b5697684e535d4f18f4348cda\n"
          ]
        }
      ]
    }
  ]
}